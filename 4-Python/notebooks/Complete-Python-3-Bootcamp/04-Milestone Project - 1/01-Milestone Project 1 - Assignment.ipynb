{
 "cells": [
  {
   "cell_type": "markdown",
   "metadata": {},
   "source": [
    "___\n",
    "\n",
    "<a href='https://www.udemy.com/user/joseportilla/'><img src='../Pierian_Data_Logo.png'/></a>\n",
    "___\n",
    "<center><em>Content Copyright by Pierian Data</em></center>"
   ]
  },
  {
   "cell_type": "markdown",
   "metadata": {},
   "source": [
    "# Milestone Project 1\n",
    "## Congratulations on making it to your first milestone!\n",
    "You've already learned a ton and are ready to work on a real project.\n",
    "\n",
    "Your assignment: Create a Tic Tac Toe game. You are free to use any IDE you like.\n",
    "\n",
    "Here are the requirements:\n",
    "\n",
    "* 2 players should be able to play the game (both sitting at the same computer)\n",
    "* The board should be printed out every time a player makes a move\n",
    "* You should be able to accept input of the player position and then place a symbol on the board\n",
    "\n",
    "Feel free to use Google to help you figure anything out (but don't just Google \"Tic Tac Toe in Python\" otherwise you won't learn anything!) Keep in mind that this project can take anywhere between several hours to several days.\n",
    "\n",
    "There are 4 Jupyter Notebooks related to this assignment:\n",
    "\n",
    "* This Assignment Notebook\n",
    "* A \"Walkthrough Steps Workbook\" Notebook\n",
    "* A \"Complete Walkthrough Solution\" Notebook\n",
    "* An \"Advanced Solution\" Notebook\n",
    "\n",
    "I encourage you to just try to start the project on your own without referencing any of the notebooks. If you get stuck, check out the next lecture which is a text lecture with helpful hints and steps. If you're still stuck after that, then check out the Walkthrough Steps Workbook, which breaks up the project in steps for you to solve. Still stuck? Then check out the Complete Walkthrough Solution video for more help on approaching the project!"
   ]
  },
  {
   "cell_type": "markdown",
   "metadata": {},
   "source": [
    "There are parts of this that will be a struggle...and that is good! I have complete faith that if you have made it this far through the course you have all the tools and knowledge to tackle this project. Remember, it's totally open book, so take your time, do a little research, and remember:\n",
    "\n",
    "## HAVE FUN!"
   ]
  },
  {
   "cell_type": "code",
   "execution_count": 2,
   "metadata": {},
   "outputs": [],
   "source": [
    "from IPython.display import clear_output\n",
    "import random\n",
    "\n",
    "\n",
    "def initialBoard():\n",
    "    return [' ',' ',' ',' ',' ',' ',' ',' ',' ']\n",
    "\n",
    "def displayGame(board):\n",
    "    clear_output()\n",
    "    for i in range(3):\n",
    "        print(f'{board[3*i]} | {board[3*i+1]} | {board[3*i+2]}')\n",
    "        if i != 2:\n",
    "            print('--|---|--')\n",
    "            \n",
    "def playerInput():\n",
    "    marker = ''\n",
    "    \n",
    "    while not (marker == 'X' or marker == 'O'):\n",
    "        marker = input('Player 1: Do you want to be X or O? ').upper()\n",
    "\n",
    "    if marker == 'X':\n",
    "        return ('X', 'O')\n",
    "    else:\n",
    "        return ('O', 'X')\n",
    "\n",
    "def chooseFirst():\n",
    "    if random.randint(0, 1) == 0:\n",
    "        return 'Player 2'\n",
    "    else:\n",
    "        return 'Player 1'\n",
    "    \n",
    "def placeMarker(board, marker, position):\n",
    "    board[position-1] = marker\n",
    "    \n",
    "def spaceCheck(board, position):  \n",
    "    return board[position-1]== ' '\n",
    "\n",
    "def playerChoice(board, turn):\n",
    "    position = 0\n",
    "    \n",
    "    while position not in range(1,10) or not spaceCheck(board, position):\n",
    "        position = int(input(f'{turn} Choose your next position: (1-9) '))\n",
    "        \n",
    "    return position\n",
    "\n",
    "def winCheck(board,mark):    \n",
    "    return ((board[6] == mark and board[7] == mark and board[8] == mark) or # across the top\n",
    "    (board[3] == mark and board[4] == mark and board[5] == mark) or # across the middle\n",
    "    (board[0] == mark and board[1] == mark and board[2] == mark) or # across the bottom\n",
    "    (board[6] == mark and board[3] == mark and board[0] == mark) or # down the middle\n",
    "    (board[7] == mark and board[4] == mark and board[1] == mark) or # down the middle\n",
    "    (board[8] == mark and board[5] == mark and board[2] == mark) or # down the right side\n",
    "    (board[6] == mark and board[4] == mark and board[2] == mark) or # diagonal\n",
    "    (board[8] == mark and board[4] == mark and board[0] == mark)) # diagonal\n",
    "\n",
    "def fullBoardCheck(board):    \n",
    "    return True if len(set(board)) == 2 and ' ' not in set(board) else False\n",
    "    "
   ]
  },
  {
   "cell_type": "code",
   "execution_count": 2,
   "metadata": {},
   "outputs": [
    {
     "data": {
      "text/plain": [
       "True"
      ]
     },
     "execution_count": 2,
     "metadata": {},
     "output_type": "execute_result"
    }
   ],
   "source": [
    "matrixTest = ['X','X','X','X','O','X','O','X','O']\n",
    "fullBoardCheck(matrixTest)"
   ]
  },
  {
   "cell_type": "code",
   "execution_count": null,
   "metadata": {},
   "outputs": [
    {
     "name": "stdout",
     "output_type": "stream",
     "text": [
      "X | O | X\n",
      "--|---|--\n",
      "O | X | O\n",
      "--|---|--\n",
      "X |   |  \n",
      "Congratulations! You have won the game!\n"
     ]
    }
   ],
   "source": [
    "print('Welcome to Tic Tac Toe!')\n",
    "\n",
    "while True: \n",
    "    board = initialBoard()\n",
    "    player1Mark, player2Mark = playerInput()\n",
    "    turn = chooseFirst()\n",
    "    print(turn + ' will go first.')\n",
    "    \n",
    "    playGame = input('Are you ready to play? Enter Y or N.')\n",
    "    \n",
    "    if playGame.lower()[0] == 'y':\n",
    "        gameOn = True\n",
    "    else:\n",
    "        gameOn = False\n",
    "\n",
    "    while gameOn:\n",
    "        if turn == \"Player 1\":\n",
    "            displayGame(board)\n",
    "            position= playerChoice(board, turn)\n",
    "            placeMarker(board, player1Mark, position)\n",
    "            \n",
    "            if winCheck(board, player1Mark):\n",
    "                displayGame(board)\n",
    "                print('Congratulations! You have won the game!')\n",
    "                gameOn = False\n",
    "            else:\n",
    "                if fullBoardCheck(board):\n",
    "                    displayGame(board)\n",
    "                    print('The game is a draw!')\n",
    "                    break\n",
    "                else:\n",
    "                    turn = 'Player 2'\n",
    "            \n",
    "        else:\n",
    "            displayGame(board)\n",
    "            position= playerChoice(board, turn)\n",
    "            placeMarker(board, player2Mark, position)\n",
    "            \n",
    "            if winCheck(board, player2Mark):\n",
    "                displayGame(board)\n",
    "                print('Congratulations! You have won the game!')\n",
    "                gameOn = False\n",
    "            else:\n",
    "                if fullBoardCheck(board):\n",
    "                    displayGame(board)\n",
    "                    print('The game is a draw!')\n",
    "                    break\n",
    "                else:\n",
    "                    turn = 'Player 1'"
   ]
  },
  {
   "cell_type": "code",
   "execution_count": null,
   "metadata": {},
   "outputs": [],
   "source": [
    "a = ['O', 'X']\n",
    "' ' in set(a)"
   ]
  }
 ],
 "metadata": {
  "kernelspec": {
   "display_name": "Python 3 (ipykernel)",
   "language": "python",
   "name": "python3"
  },
  "language_info": {
   "codemirror_mode": {
    "name": "ipython",
    "version": 3
   },
   "file_extension": ".py",
   "mimetype": "text/x-python",
   "name": "python",
   "nbconvert_exporter": "python",
   "pygments_lexer": "ipython3",
   "version": "3.11.5"
  }
 },
 "nbformat": 4,
 "nbformat_minor": 1
}
